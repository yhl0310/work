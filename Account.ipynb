{
 "cells": [
  {
   "cell_type": "code",
   "execution_count": 54,
   "metadata": {},
   "outputs": [],
   "source": [
    "class Account:\n",
    "    def __init__(self,num,name):\n",
    "        self.num= num\n",
    "        self.name=name\n",
    "        self.balance=0\n",
    "    def deposit(self,amount):\n",
    "        if amount<=0:\n",
    "            print(\"存款需大於0\")\n",
    "        else: self.balance += amount\n",
    "        print(\"餘額:\"+str(self.balance))\n",
    "    def withdraw(self,amount):\n",
    "        if amount > self.balance:\n",
    "            print(\"錢不夠提喔\")\n",
    "        else: self.balance=self.balance-amount\n",
    "        print(\"餘額:\"+str(self.balance))"
   ]
  },
  {
   "cell_type": "code",
   "execution_count": 55,
   "metadata": {},
   "outputs": [
    {
     "name": "stdout",
     "output_type": "stream",
     "text": [
      "餘額:54321\n"
     ]
    }
   ],
   "source": [
    "Acc1=Account(\"0001\",\"Shaorn\")\n",
    "Acc1.deposit(54321)"
   ]
  },
  {
   "cell_type": "code",
   "execution_count": 56,
   "metadata": {},
   "outputs": [
    {
     "name": "stdout",
     "output_type": "stream",
     "text": [
      "餘額:55555\n"
     ]
    }
   ],
   "source": [
    "Acc1.deposit(1234)"
   ]
  },
  {
   "cell_type": "code",
   "execution_count": 57,
   "metadata": {},
   "outputs": [
    {
     "name": "stdout",
     "output_type": "stream",
     "text": [
      "錢不夠提喔\n",
      "餘額:55555\n"
     ]
    }
   ],
   "source": [
    "Acc1.withdraw(55556)"
   ]
  },
  {
   "cell_type": "code",
   "execution_count": 58,
   "metadata": {},
   "outputs": [
    {
     "name": "stdout",
     "output_type": "stream",
     "text": [
      "55555\n"
     ]
    }
   ],
   "source": [
    "print(Acc1.balance)"
   ]
  },
  {
   "cell_type": "code",
   "execution_count": 79,
   "metadata": {},
   "outputs": [
    {
     "name": "stdout",
     "output_type": "stream",
     "text": [
      "帳號：0001，帳戶：Shaorn，餘額:54321\n",
      "帳號：0001，帳戶：Shaorn，餘額:55555\n",
      "錢不夠提喔\n",
      "帳號：0001，帳戶：Shaorn，餘額:55555\n"
     ]
    }
   ],
   "source": [
    "class Account:\n",
    "    def __init__(self,num,name):\n",
    "        self.num= num\n",
    "        self.name=name\n",
    "        self.balance=0\n",
    "    def deposit(self,amount):\n",
    "        if amount<=0:\n",
    "            print(\"存款需大於0\")\n",
    "        else: self.balance += amount\n",
    "        print(\"帳號：\"+self.num+\"，帳戶：\"+self.name+\"，餘額:\"+str(self.balance))\n",
    "    def withdraw(self,amount):\n",
    "        if amount > self.balance:\n",
    "            print(\"錢不夠提喔\")\n",
    "        else: self.balance=self.balance-amount\n",
    "        print(\"帳號：\"+self.num+\"，帳戶：\"+self.name+\"，餘額:\"+str(self.balance))\n",
    "Acc1=Account(\"0001\",\"Shaorn\")\n",
    "Acc1.deposit(54321)\n",
    "Acc1.deposit(1234)\n",
    "Acc1.withdraw(55556)"
   ]
  },
  {
   "cell_type": "code",
   "execution_count": null,
   "metadata": {},
   "outputs": [],
   "source": []
  }
 ],
 "metadata": {
  "kernelspec": {
   "display_name": "Python 3",
   "language": "python",
   "name": "python3"
  },
  "language_info": {
   "codemirror_mode": {
    "name": "ipython",
    "version": 3
   },
   "file_extension": ".py",
   "mimetype": "text/x-python",
   "name": "python",
   "nbconvert_exporter": "python",
   "pygments_lexer": "ipython3",
   "version": "3.7.3"
  }
 },
 "nbformat": 4,
 "nbformat_minor": 2
}
