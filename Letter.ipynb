{
 "cells": [
  {
   "cell_type": "code",
   "execution_count": 4,
   "metadata": {},
   "outputs": [],
   "source": [
    "from random import choice,randint,sample\n",
    "def P(n):\n",
    "    print(\"情書產生器\")\n",
    "    word1=[\"我\",\"我的\",\"妳\",\"妳的\",\"手裡的\"]\n",
    "    word2=[\"心\",\"日子\",\"雨\",\"風\",\"天空\",\"雲\",\"等待\",\"哭泣\",\"戀愛\",\"相遇\",\"分離\",\"忘記\",\"靈魂\",\"停止\",\"思念\"]\n",
    "    word3=[\"溫柔\",\"心醉\",\"驀然\",\"吹過\"]\n",
    "    a=sample(word1,n)\n",
    "    b=sample(word2,n)\n",
    "    c=sample(word3,n)\n",
    "    for i in range(n):\n",
    "        sentance = [a[i],b[i],c[i]]\n",
    "        print(\" \".join(sentance))"
   ]
  },
  {
   "cell_type": "code",
   "execution_count": 5,
   "metadata": {},
   "outputs": [
    {
     "name": "stdout",
     "output_type": "stream",
     "text": [
      "情書產生器\n",
      "手裡的 日子 心醉\n",
      "妳的 風 溫柔\n",
      "妳 分離 驀然\n",
      "我 雨 吹過\n"
     ]
    }
   ],
   "source": [
    "P(4)"
   ]
  },
  {
   "cell_type": "code",
   "execution_count": null,
   "metadata": {},
   "outputs": [],
   "source": []
  }
 ],
 "metadata": {
  "kernelspec": {
   "display_name": "Python 3",
   "language": "python",
   "name": "python3"
  },
  "language_info": {
   "codemirror_mode": {
    "name": "ipython",
    "version": 3
   },
   "file_extension": ".py",
   "mimetype": "text/x-python",
   "name": "python",
   "nbconvert_exporter": "python",
   "pygments_lexer": "ipython3",
   "version": "3.7.3"
  }
 },
 "nbformat": 4,
 "nbformat_minor": 2
}
